{
  "nbformat": 4,
  "nbformat_minor": 0,
  "metadata": {
    "colab": {
      "provenance": []
    },
    "kernelspec": {
      "name": "python3",
      "display_name": "Python 3"
    },
    "language_info": {
      "name": "python"
    }
  },
  "cells": [
    {
      "cell_type": "markdown",
      "source": [
        "#Unlocking Biomechanics Data with ChatGPT and Google Colab: How to Analyze C3D Files in Python\n",
        "\n",
        "In this tutorial, I will show you how to read a C3D file, which is a MoCap file commonly used in biomechanics research. We will be working in Colab, and once we have loaded the file, we will be able to perform further analyses on the marker data, force data, and other variables stored in the C3D file.\n",
        "\n",
        "If you are not familiar with terms like C3D, MoCap, biomechanics, marker data, etc, don't worry! You can still follow along by using the provided resources and asking any questions you may have in the [OpenAI chat](https://chat.openai.com/chat).\n",
        "\n",
        "Dr. Hossein Mokhtarzadeh\n",
        "https://github.com/hmok\n",
        "\n",
        "**PS:**\n",
        "Have you ever worked with C3D files in biomechanics research? C3D files are a type of MoCap file that store motion capture data for analysis, such as marker trajectories and force data. They are commonly used in biomechanics to study human movement and performance.https://c3d.org/ "
      ],
      "metadata": {
        "id": "FuNCxrbMvcoa"
      }
    },
    {
      "cell_type": "markdown",
      "source": [
        "# Install c3d from PyPI\n",
        "!pip install c3d\n",
        "\n",
        "https://pypi.org/project/c3d/"
      ],
      "metadata": {
        "id": "0ctLbUlhvVD3"
      }
    },
    {
      "cell_type": "code",
      "source": [
        "!pip install c3d"
      ],
      "metadata": {
        "id": "yTKDlAz8vbI5"
      },
      "execution_count": null,
      "outputs": []
    },
    {
      "cell_type": "markdown",
      "source": [
        "# A promot to get c3d file from github\n"
      ],
      "metadata": {
        "id": "qyLH_siHpIrt"
      }
    },
    {
      "cell_type": "code",
      "source": [
        "!wget https://github.com/hmok/OpenSimColab/blob/main/C3DFiles/walking2.c3d # this may not work for some reason, I did not check details\n"
      ],
      "metadata": {
        "id": "_AU0203f4cqd"
      },
      "execution_count": null,
      "outputs": []
    },
    {
      "cell_type": "code",
      "source": [
        "import requests\n",
        "\n",
        "url = \"https://github.com/hmok/OpenSimColab/blob/main/C3DFiles/walking2.c3d?raw=true\"\n",
        "response = requests.get(url)\n",
        "\n",
        "with open('file.c3d', 'wb') as f:\n",
        "    f.write(response.content)\n"
      ],
      "metadata": {
        "id": "amFYIDgT0udP"
      },
      "execution_count": null,
      "outputs": []
    },
    {
      "cell_type": "code",
      "source": [
        "import c3d\n",
        "\n",
        "with open('/content/file.c3d', 'rb') as handle:\n",
        "    reader = c3d.Reader(handle)\n",
        "    for (i, points, analog) in reader.read_frames():\n",
        "        print('Frame {}: {}'.format(i, points.round(2)))\n"
      ],
      "metadata": {
        "id": "t6pbCzWE1KdI"
      },
      "execution_count": null,
      "outputs": []
    },
    {
      "cell_type": "code",
      "execution_count": null,
      "metadata": {
        "id": "wK6FvyI0ovue"
      },
      "outputs": [],
      "source": [
        "# Get the c3d file again usign ChatGPT\n",
        "import requests\n",
        "\n",
        "url = \"https://github.com/hmok/OpenSimColab/blob/main/C3DFiles/walking2.c3d?raw=true\"\n",
        "filename = \"walking2.c3d\"\n",
        "\n",
        "response = requests.get(url)\n",
        "\n",
        "with open(filename, \"wb\") as f:\n",
        "    f.write(response.content)\n"
      ]
    },
    {
      "cell_type": "code",
      "source": [
        "import urllib.request\n",
        "url = \"https://github.com/hmok/OpenSimColab/blob/main/C3DFiles/walking2.c3d?raw=true\"\n",
        "filename = \"filename.c3d\"\n",
        "urllib.request.urlretrieve(url, filename)\n"
      ],
      "metadata": {
        "id": "X4CtDJO9pduR"
      },
      "execution_count": null,
      "outputs": []
    },
    {
      "cell_type": "code",
      "source": [
        "\n",
        "r = c3d.Reader(open('/content/file.c3d', 'rb'))\n",
        "\n",
        "for frame_no, points, analog in r.read_frames():\n",
        "  print('{0.shape} points in this frame'.format(points))"
      ],
      "metadata": {
        "id": "tUtb_nPHqCok"
      },
      "execution_count": null,
      "outputs": []
    }
  ]
}