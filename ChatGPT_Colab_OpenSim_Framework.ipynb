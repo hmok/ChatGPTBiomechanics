{
  "nbformat": 4,
  "nbformat_minor": 0,
  "metadata": {
    "colab": {
      "provenance": []
    },
    "kernelspec": {
      "name": "python3",
      "display_name": "Python 3"
    },
    "language_info": {
      "name": "python"
    }
  },
  "cells": [
    {
      "cell_type": "markdown",
      "source": [
        "**Title:** Revolutionizing Biomechanics: Integrating AI, Collaborative Coding Environments, and Simulation Software for Enhanced Model Development and Analysis\n",
        "\n",
        "It is a simple framework demonstrating how to utilize **ChatGPT** for the development and utilization of **biomechanical models** in **OpenSim**, with the ability to execute them in **Colab**.\n",
        "\n",
        "\n",
        "**Author:**\n",
        "Hossein Mokhtarzadeh\n",
        "\n",
        "**Email:**\n",
        "mokhtarzadeh dot hossein at gmail dot com\n",
        "\n",
        "The notebook will be soon shared on GitHub at hmok (Hossein Mokhtarzadeh) · GitHub.\n",
        "\n",
        "**Abstract**\n",
        "\n",
        "Biomechanics is a crucial field that investigates human movement and performance. This paper presents a comprehensive framework that combines ChatGPT, Colab, and OpenSim to streamline the creation and analysis of biomechanical models. By integrating ChatGPT and Colab, the framework offers a user-friendly and accessible approach to model development, while OpenSim provides a versatile platform for simulations. The framework's advantages include intuitive model development, online accessibility, and simplified setup. However, considerations such as the accuracy of ChatGPT responses and data security in Colab should be addressed. The paper demonstrates the framework's potential through practical examples, including muscle strength enhancement, center of mass determination, and extracting model details, showcasing its efficacy in advancing biomechanical research.\n",
        "\n",
        "**Keywords:** Biomechanical modeling, ChatGPT, Colab, OpenSim, Integration"
      ],
      "metadata": {
        "id": "8-A7qPCYE0-_"
      }
    },
    {
      "cell_type": "code",
      "source": [
        "#@title Integration of ChatGPT, Colab & OpenSim\n",
        "#in neuro-biomechanics research, enabling model generation, execution, and analysis. OpenSim used for neuro-biomechanic modeling\n",
        "import base64\n",
        "from IPython.display import Image, display\n",
        "# import matplotlib.pyplot as plt\n",
        "\n",
        "def mm(graph):\n",
        "  graphbytes = graph.encode(\"ascii\")\n",
        "  base64_bytes = base64.b64encode(graphbytes)\n",
        "  base64_string = base64_bytes.decode(\"ascii\")\n",
        "  display(\n",
        "    Image(\n",
        "      url=\"https://mermaid.ink/img/\"\n",
        "      + base64_string\n",
        "    )\n",
        "  )\n",
        "\n",
        "mm(\"\"\"\n",
        "\n",
        "graph TD;\n",
        "  A(ChatGPT) -- \" \" --> B(Google Colab);\n",
        "  C(Neuro-Biomechanics) -- \" \" --> B;\n",
        "  B -- \" \" --> D[Gait Analyses];\n",
        "  B -- \" \" --> E[Rehabilitation];\n",
        "  B -- \" \" --> F[Brain Injuries];\n",
        "  B -- \" \" --> G[Sport Injuries];\n",
        "  style A fill:#F9D5E5, stroke:#F05555, stroke-width:2px;\n",
        "  style B fill:#E2F0CB, stroke:#00B872, stroke-width:2px;\n",
        "  style C fill:#D0E0FF, stroke:#2962FF, stroke-width:2px;\n",
        "  style D fill:#FFF8E1, stroke:#F9A825, stroke-width:2px;\n",
        "  style E fill:#FFD7D7, stroke:#F44336, stroke-width:2px;\n",
        "  style F fill:#F8BBD0, stroke:#EC407A, stroke-width:2px;\n",
        "  style G fill:#E6EE9C, stroke:#9E9D24, stroke-width:2px;\n",
        "\n",
        "\n",
        "\"\"\")\n"
      ],
      "metadata": {
        "colab": {
          "base_uri": "https://localhost:8080/",
          "height": 240
        },
        "cellView": "form",
        "id": "A0u-yBxHGM76",
        "outputId": "1f015f51-452c-4e28-a0bd-26616a4c6730"
      },
      "execution_count": 3,
      "outputs": [
        {
          "output_type": "display_data",
          "data": {
            "text/html": [
              "<img src=\"https://mermaid.ink/img/CgpncmFwaCBURDsKICBBKENoYXRHUFQpIC0tICIgIiAtLT4gQihHb29nbGUgQ29sYWIpOwogIEMoTmV1cm8tQmlvbWVjaGFuaWNzKSAtLSAiICIgLS0+IEI7CiAgQiAtLSAiICIgLS0+IERbR2FpdCBBbmFseXNlc107CiAgQiAtLSAiICIgLS0+IEVbUmVoYWJpbGl0YXRpb25dOwogIEIgLS0gIiAiIC0tPiBGW0JyYWluIEluanVyaWVzXTsKICBCIC0tICIgIiAtLT4gR1tTcG9ydCBJbmp1cmllc107CiAgc3R5bGUgQSBmaWxsOiNGOUQ1RTUsIHN0cm9rZTojRjA1NTU1LCBzdHJva2Utd2lkdGg6MnB4OwogIHN0eWxlIEIgZmlsbDojRTJGMENCLCBzdHJva2U6IzAwQjg3Miwgc3Ryb2tlLXdpZHRoOjJweDsKICBzdHlsZSBDIGZpbGw6I0QwRTBGRiwgc3Ryb2tlOiMyOTYyRkYsIHN0cm9rZS13aWR0aDoycHg7CiAgc3R5bGUgRCBmaWxsOiNGRkY4RTEsIHN0cm9rZTojRjlBODI1LCBzdHJva2Utd2lkdGg6MnB4OwogIHN0eWxlIEUgZmlsbDojRkZEN0Q3LCBzdHJva2U6I0Y0NDMzNiwgc3Ryb2tlLXdpZHRoOjJweDsKICBzdHlsZSBGIGZpbGw6I0Y4QkJEMCwgc3Ryb2tlOiNFQzQwN0EsIHN0cm9rZS13aWR0aDoycHg7CiAgc3R5bGUgRyBmaWxsOiNFNkVFOUMsIHN0cm9rZTojOUU5RDI0LCBzdHJva2Utd2lkdGg6MnB4OwoKCg==\"/>"
            ],
            "text/plain": [
              "<IPython.core.display.Image object>"
            ]
          },
          "metadata": {}
        }
      ]
    },
    {
      "cell_type": "code",
      "source": [
        "#@title Install condalab and OpenSim\n",
        "\n",
        "# note: if there was an error disconnect and delete the runtime\n",
        "\n",
        "!pip install -q condacolab\n",
        "import condacolab\n",
        "condacolab.install()\n",
        "!conda install -c opensim-org opensim\n"
      ],
      "metadata": {
        "cellView": "form",
        "id": "NaYmm9EBmzar"
      },
      "execution_count": null,
      "outputs": []
    },
    {
      "cell_type": "markdown",
      "source": [
        "#ChatGPT Prompt 1\n",
        "To obtain a Python code snippet specifically for increasing muscle strength in OpenSim models using the OpenSim API, you can use the following prompt:\n",
        "\n",
        "\"Could you please provide a Python code snippet that demonstrates how to increase muscle strength in OpenSim using the OpenSim API?\"\n"
      ],
      "metadata": {
        "id": "pEbvsWm4Hnmj"
      }
    },
    {
      "cell_type": "code",
      "source": [
        "#@title Example 1: Increasing muscle strength in OpenSim models\n",
        "import opensim\n",
        "\n",
        "!wget https://raw.githubusercontent.com/opensim-org/opensim-models/master/Models/Arm26/arm26.osim\n",
        "# Load the OpenSim model\n",
        "model = opensim.Model(\"/content/arm26.osim\")\n",
        "\n",
        "# Access the muscles in the model\n",
        "muscles = model.getMuscles()\n",
        "\n",
        "# Increase maximum isometric force of each muscle\n",
        "for muscle in muscles:\n",
        "    muscle.setMaxIsometricForce(muscle.getMaxIsometricForce() * 1.2)  # Adjust the scaling factor as needed\n",
        "\n",
        "# Save the modified model\n",
        "model.printToXML(\"/content/modified_model.osim\")\n",
        "\n",
        "# Run simulations or further analysis with the updated model\n",
        "# ...\n"
      ],
      "metadata": {
        "colab": {
          "base_uri": "https://localhost:8080/"
        },
        "cellView": "form",
        "id": "N0Dh3bg1mync",
        "outputId": "328fd34f-a92a-4d42-814e-6439deb01659"
      },
      "execution_count": 2,
      "outputs": [
        {
          "output_type": "stream",
          "name": "stdout",
          "text": [
            "--2023-05-30 10:14:25--  https://raw.githubusercontent.com/opensim-org/opensim-models/master/Models/Arm26/arm26.osim\n",
            "Resolving raw.githubusercontent.com (raw.githubusercontent.com)... 185.199.108.133, 185.199.109.133, 185.199.110.133, ...\n",
            "Connecting to raw.githubusercontent.com (raw.githubusercontent.com)|185.199.108.133|:443... connected.\n",
            "HTTP request sent, awaiting response... 200 OK\n",
            "Length: 78258 (76K) [text/plain]\n",
            "Saving to: ‘arm26.osim’\n",
            "\n",
            "\rarm26.osim            0%[                    ]       0  --.-KB/s               \rarm26.osim          100%[===================>]  76.42K  --.-KB/s    in 0.01s   \n",
            "\n",
            "2023-05-30 10:14:25 (6.19 MB/s) - ‘arm26.osim’ saved [78258/78258]\n",
            "\n"
          ]
        },
        {
          "output_type": "execute_result",
          "data": {
            "text/plain": [
              "True"
            ]
          },
          "metadata": {},
          "execution_count": 2
        }
      ]
    },
    {
      "cell_type": "markdown",
      "source": [
        "#ChatGPT Prompt 2\n",
        "To accurately determine the center of mass of the human body and utilize OpenSim within the framework for biomechanical analyses such as balance assessment and gait analysis, you can use the following prompt:\n",
        "\n",
        "\"Could you please provide a Python code snippet that demonstrates how to compute the center of mass for an OpenSim model using the OpenSim API?\"\n"
      ],
      "metadata": {
        "id": "IfbKEMXnIOqD"
      }
    },
    {
      "cell_type": "code",
      "source": [
        "#@title Example 2: Computing the Center of Mass using OpenSim\n",
        "import opensim as osim\n",
        "\n",
        "# Load an OpenSim model\n",
        "# model = osim.Model(\"path/to/your/model.osim\")\n",
        "model = opensim.Model(\"/content/arm26.osim\")\n",
        "\n",
        "# Initialize the OpenSim model's state\n",
        "state = model.initSystem()\n",
        "\n",
        "# Compute the center of mass\n",
        "com = model.calcMassCenterPosition(state)\n",
        "\n",
        "# Print the center of mass coordinates\n",
        "print(\"Center of Mass (X, Y, Z):\", com[0], com[1], com[2])\n"
      ],
      "metadata": {
        "colab": {
          "base_uri": "https://localhost:8080/"
        },
        "cellView": "form",
        "id": "lM4pWdkqv4Ck",
        "outputId": "6ef84ca6-d6fa-45f2-c082-d5f1c9f2e7e4"
      },
      "execution_count": 3,
      "outputs": [
        {
          "output_type": "stream",
          "name": "stdout",
          "text": [
            "Center of Mass (X, Y, Z): -0.014791356969207862 0.48096879225552364 0.16444757224938636\n"
          ]
        }
      ]
    },
    {
      "cell_type": "markdown",
      "source": [
        "#ChatGPT Prompt 3\n",
        "Here's a prompt you can use to get a Python script that demonstrates how to load an OpenSim model and extract information about bodies, joint sets, marker sets, muscle groups, as well as the number of muscles and coordinates:\n",
        "\n",
        "\"Could you please provide a Python script that demonstrates how to load an OpenSim model and extract information such as bodies, joint sets, marker sets, muscle groups, and the number of muscles and coordinates?\"\n",
        "\n"
      ],
      "metadata": {
        "id": "v37uLLvxIMJq"
      }
    },
    {
      "cell_type": "code",
      "source": [
        "#@title  Example 3: Extracting Model Details in OpenSim\n",
        "import opensim as osim\n",
        "\n",
        "# Load an OpenSim model\n",
        "# model = osim.Model(\"path/to/your/model.osim\")\n",
        "model = opensim.Model(\"/content/arm26.osim\")\n",
        "\n",
        "# Print information about bodies\n",
        "print(\"Bodies:\")\n",
        "for i in range(model.getBodySet().getSize()):\n",
        "    body = model.getBodySet().get(i)\n",
        "    print(\"- Name:\", body.getName())\n",
        "\n",
        "# Print information about joint sets\n",
        "print(\"Joint Sets:\")\n",
        "for i in range(model.getJointSet().getSize()):\n",
        "    joint = model.getJointSet().get(i)\n",
        "    print(\"- Name:\", joint.getName())\n",
        "\n",
        "# Print information about marker sets\n",
        "print(\"Marker Sets:\")\n",
        "for i in range(model.getMarkerSet().getSize()):\n",
        "    marker = model.getMarkerSet().get(i)\n",
        "    print(\"- Name:\", marker.getName())\n",
        "\n",
        "# Print information about muscle groups\n",
        "print(\"Muscle Groups:\")\n",
        "for i in range(model.getMuscles().getSize()):\n",
        "    muscleGroup = model.getMuscles().get(i)\n",
        "    print(\"- Name:\", muscleGroup.getName())\n",
        "\n",
        "# Print the number of muscles and coordinates\n",
        "num_muscles = model.getMuscles().getSize()\n",
        "num_coordinates = model.getNumCoordinates()\n",
        "print(\"Number of Muscles:\", num_muscles)\n",
        "print(\"Number of Coordinates:\", num_coordinates)\n"
      ],
      "metadata": {
        "colab": {
          "base_uri": "https://localhost:8080/"
        },
        "cellView": "form",
        "id": "9O5Amoq0wCsT",
        "outputId": "3155d0ab-4505-4ca9-b759-559d9464064e"
      },
      "execution_count": 4,
      "outputs": [
        {
          "output_type": "stream",
          "name": "stdout",
          "text": [
            "Bodies:\n",
            "- Name: base\n",
            "- Name: r_humerus\n",
            "- Name: r_ulna_radius_hand\n",
            "Joint Sets:\n",
            "- Name: offset\n",
            "- Name: r_shoulder\n",
            "- Name: r_elbow\n",
            "Marker Sets:\n",
            "- Name: r_acromion\n",
            "- Name: r_humerus_epicondyle\n",
            "- Name: r_radius_styloid\n",
            "Muscle Groups:\n",
            "- Name: TRIlong\n",
            "- Name: TRIlat\n",
            "- Name: TRImed\n",
            "- Name: BIClong\n",
            "- Name: BICshort\n",
            "- Name: BRA\n",
            "Number of Muscles: 6\n",
            "Number of Coordinates: 2\n"
          ]
        }
      ]
    }
  ]
}