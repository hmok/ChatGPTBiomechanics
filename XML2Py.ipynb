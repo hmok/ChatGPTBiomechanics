{
  "nbformat": 4,
  "nbformat_minor": 0,
  "metadata": {
    "colab": {
      "provenance": []
    },
    "kernelspec": {
      "name": "python3",
      "display_name": "Python 3"
    },
    "language_info": {
      "name": "python"
    }
  },
  "cells": [
    {
      "cell_type": "markdown",
      "source": [
        "#XML2Py\n",
        "\n",
        "This snippet demonstrates extracting XML files in Python. Credits to the authors for sharing their freely available work titled \"Dataset of 3D gait analysis in typically developing children walking at three different speeds on an instrumented treadmill in virtual reality.\" The dataset provides normative values for treadmill-based 3D gait analysis, enabling assessment of walking biomechanics, demographic relationships, comparison of pathological gait, and exploration of gait analysis methods in typically developing children.\n",
        "\n",
        "In this code, we utilize Python packages to read XML files (specifically, .mox files) collected from the CAREN lab (Motek Medical devices, Matlab Code also [here](https://www.youtube.com/watch?v=ZSo4yZC5fXY&ab_channel=MotekMedical)).\n",
        "\n",
        "@hmok, Hossein Mokhtarzadeh, [LINK](https://github.com/hmok/ChatGPTBiomechanics)\n",
        "\n",
        "\n",
        "Direct URL to data: https://doi.org/10.17605/OSF.IO/3XQEW\n",
        "\n",
        "\n",
        "Thanks to my interns at UoM and refinements from ChatGPT and OpenAI, the initial work was done years ago."
      ],
      "metadata": {
        "id": "x1Tl0YNHGGka"
      }
    },
    {
      "cell_type": "code",
      "execution_count": null,
      "metadata": {
        "cellView": "form",
        "id": "pIC22QK-GEOv"
      },
      "outputs": [],
      "source": [
        "#@title Collect one of the files\n",
        "#get one of the file mox file\n",
        "!wget -O HCC001_slow0001.mox \"https://osf.io/download/4pghr/\"\n",
        "# Install the required packages\n",
        "!pip install xmltodict munch pygwalker"
      ]
    },
    {
      "cell_type": "code",
      "source": [
        "#@title Extract data\n",
        "# Import additional packages\n",
        "import pandas as pd\n",
        "import xmltodict\n",
        "from munch import DefaultMunch\n",
        "import pygwalker as pyg\n",
        "\n",
        "# Read the .mox file\n",
        "with open('/content/HCC001_slow0001.mox', 'r') as file:\n",
        "    mox_data = file.read()\n",
        "\n",
        "# Convert the .mox data to a dictionary\n",
        "mox_dict = xmltodict.parse(mox_data)\n",
        "\n",
        "# Create a munch object from the dictionary\n",
        "mox_obj = DefaultMunch.fromDict(mox_dict)\n",
        "\n",
        "# Extract the viewer data section\n",
        "viewer_data = mox_obj.moxie_viewer_datafile.viewer_data\n",
        "\n",
        "# Extract channel labels and data\n",
        "channel_labels = []\n",
        "channel_data = []\n",
        "\n",
        "for channel in viewer_data.viewer_channel:\n",
        "    channel_labels.append(channel.channel_label)\n",
        "    channel_data.append(list(map(float, channel.raw_channel_data.channel_data.split())))\n",
        "\n",
        "# Create a pandas DataFrame\n",
        "df = pd.DataFrame(dict(zip(channel_labels, channel_data)))\n",
        "\n",
        "# Display the DataFrame\n",
        "print(df.head())"
      ],
      "metadata": {
        "cellView": "form",
        "id": "4hXwLdhFGwjp"
      },
      "execution_count": null,
      "outputs": []
    },
    {
      "cell_type": "code",
      "source": [
        "#@title Plot part of the data\n",
        "# Plot using pygwalker\n",
        "gwalker = pyg.walk(df.loc[0:400])\n"
      ],
      "metadata": {
        "cellView": "form",
        "id": "dxotecgZG4mB"
      },
      "execution_count": null,
      "outputs": []
    }
  ]
}